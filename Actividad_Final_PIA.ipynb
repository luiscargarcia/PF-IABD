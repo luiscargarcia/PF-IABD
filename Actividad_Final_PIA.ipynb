{
  "cells": [
    {
      "cell_type": "markdown",
      "metadata": {
        "id": "view-in-github",
        "colab_type": "text"
      },
      "source": [
        "<a href=\"https://colab.research.google.com/github/luiscargarcia/PF-IABD/blob/main/Actividad_Final_PIA.ipynb\" target=\"_parent\"><img src=\"https://colab.research.google.com/assets/colab-badge.svg\" alt=\"Open In Colab\"/></a>"
      ]
    },
    {
      "cell_type": "markdown",
      "metadata": {
        "id": "3yxgmp3Ij-4O"
      },
      "source": [
        "# RESOLUCIÓN ACTIVIDAD FINAL PIA   \n",
        "Nombre:\n",
        "\n",
        "NOTA: Completa el código necesario para resolver cada uno de los apartados, incorporando el código correspondiente debajo de cada bloque de comentarios."
      ]
    },
    {
      "cell_type": "markdown",
      "metadata": {
        "id": "W2_iBRlwj-4P"
      },
      "source": [
        "#### Cargar una de las imágenes histológicas"
      ]
    },
    {
      "cell_type": "code",
      "execution_count": null,
      "metadata": {
        "id": "V1pj_cYoj-4P"
      },
      "outputs": [],
      "source": [
        "# Importa las librerías necesarias\n",
        "import cv2\n",
        "import numpy as np\n",
        "from skimage import io, color, morphology, measure\n",
        "from skimage.filters import threshold_otsu\n",
        "from scipy.ndimage.morphology import binary_fill_holes\n",
        "import matplotlib.pyplot as plt\n"
      ]
    },
    {
      "cell_type": "code",
      "execution_count": null,
      "metadata": {
        "id": "wCDCLtTtj-4Q"
      },
      "outputs": [],
      "source": [
        "# Utiliza la librería skimage.io para leer la imagen 'histo_x.jpg' y visualízala usando la librería de matplotlib.\n",
        "# Recuerda normalizar la imagen dividiéndola entre 255\n",
        "image = io.imread('/workspaces/GitHub-IADB/LCGE-IABD/Proyecto_Final/histo_1.jpeg') # Reemplaza 'histo_x.jpg' con la ruta correcta\n",
        "image = image / 255.0\n",
        "plt.imshow(image)\n",
        "plt.show()"
      ]
    },
    {
      "cell_type": "markdown",
      "metadata": {
        "id": "B9DyTMsuj-4Q"
      },
      "source": [
        "#### Realizar una transformación de color para convertir la imagen al espacio de color CMYK"
      ]
    },
    {
      "cell_type": "code",
      "execution_count": null,
      "metadata": {
        "id": "I_KiAIUAj-4Q"
      },
      "outputs": [],
      "source": [
        "# 1) Extrae la componente magenta de la imagen (que corresponde a la región tisular)\n",
        "# 2) Visualiza la imagen con la librería de matplotlib.\n",
        "# 3) Guarda la imagen Magenta con cv2.imwrite con el nombre \"1_imagen_magenta.png\"\n",
        "image_cmyk = color.rgb2cmyk(image)\n",
        "magenta_channel = image_cmyk[:,:,1]\n",
        "plt.imshow(magenta_channel, cmap='gray')\n",
        "plt.show()\n",
        "cv2.imwrite(\"1_imagen_magenta.png\", (magenta_channel * 255).astype(np.uint8))"
      ]
    },
    {
      "cell_type": "markdown",
      "metadata": {
        "id": "stCRtliej-4Q"
      },
      "source": [
        "#### Umbralizar la imagen para separar los píxeles del fondo de la región tisular"
      ]
    },
    {
      "cell_type": "code",
      "execution_count": null,
      "metadata": {
        "id": "UZmYPV5Uj-4Q"
      },
      "outputs": [],
      "source": [
        "# 1) Convierte la imagen Magenta a formato \"uint8\"\n",
        "# 2) Aplica un filtro gaussiano de tamaño 5x5\n",
        "# 3) Umbraliza la imagen aplicando el método de Otsu\n",
        "# 4) Aplica el umbral de manera que los píxeles del fondo y de los lúmenes sean 1s y el resto 0s.\n",
        "# 5) Visualiza la máscara resultante (imagen de 0s y 1s)\n",
        "# 6) Guarda la máscara multiplicándola por 255 con el nombre \"2_mascara_con_artefactos.png\"\n",
        "magenta_uint8 = (magenta_channel * 255).astype(np.uint8)\n",
        "blurred = cv2.GaussianBlur(magenta_uint8,(5,5),0)\n",
        "thresh = threshold_otsu(blurred)\n",
        "mask = blurred > thresh\n",
        "mask = 1 - mask # Invertir para que los lúmenes sean 1s\n",
        "plt.imshow(mask, cmap='gray')\n",
        "plt.show()\n",
        "cv2.imwrite(\"2_mascara_con_artefactos.png\", (mask * 255).astype(np.uint8))"
      ]
    },
    {
      "cell_type": "markdown",
      "metadata": {
        "id": "EyrpZpv-j-4Q"
      },
      "source": [
        "#### Limpiar la imagen eliminando los artefactos de lumen (objetos blancos pequeños que no son lúmenes)"
      ]
    },
    {
      "cell_type": "code",
      "execution_count": null,
      "metadata": {
        "id": "GMnNaHp7j-4R"
      },
      "outputs": [],
      "source": [
        "# 1) Utiliza la librería skimage.morphology.remove_small_objects.\n",
        "# Lee la documentación en https://scikit-image.org/docs/dev/api/skimage.morphology.html#skimage.morphology.remove_small_objects\n",
        "# Fija el umbral en 300 píxeles y la conectividad del objeto en 8 píxeles.\n",
        "# 2) Convierte la máscara generada en formato uint8\n",
        "# 3) Visualiza la máscara resultante\n",
        "# 4) Guarda la máscara multiplicándola por 255 con el nombre \"3_mascara_sin_artefactos.png\"\n",
        "cleaned_mask = morphology.remove_small_objects(mask, min_size=300, connectivity=8)\n",
        "cleaned_mask_uint8 = (cleaned_mask * 255).astype(np.uint8)\n",
        "plt.imshow(cleaned_mask_uint8, cmap='gray')\n",
        "plt.show()\n",
        "cv2.imwrite(\"3_mascara_sin_artefactos.png\", cleaned_mask_uint8)"
      ]
    },
    {
      "cell_type": "markdown",
      "metadata": {
        "id": "XOFuTX7mj-4R"
      },
      "source": [
        "#### Rellenar con 0s el fondo de la imagen para quedarnos únicamente con los lúmenes"
      ]
    },
    {
      "cell_type": "code",
      "execution_count": null,
      "metadata": {
        "id": "XF0f1_oMj-4R"
      },
      "outputs": [],
      "source": [
        "# 1) Aplica el algoritmo de expansión a partir de semillas para rellenar con 0s\n",
        "# Pon dos semillas: una en la esquina superior izquierda y otra en la esquina inferior derecha.\n",
        "# 2) Visualiza la máscara resultante\n",
        "# 3) Guarda la máscara multiplicándola por 255 con el nombre \"4_mascara_lumenes.png\"\n",
        "h, w = cleaned_mask.shape\n",
        "seed1 = (0,0)\n",
        "seed2 = (h-1, w-1)\n",
        "filled_mask = morphology.binary_dilation(cleaned_mask, selem=morphology.disk(10)) #Ajusta el radio del disco según sea necesario\n",
        "filled_mask[seed1] = 0\n",
        "filled_mask[seed2] = 0\n",
        "filled_mask = 1 - morphology.binary_fill_holes(1-filled_mask)\n",
        "plt.imshow(filled_mask, cmap='gray')\n",
        "plt.show()\n",
        "cv2.imwrite(\"4_mascara_lumenes.png\", (filled_mask * 255).astype(np.uint8))"
      ]
    },
    {
      "cell_type": "markdown",
      "metadata": {
        "id": "DuEWwCEXj-4R"
      },
      "source": [
        "#### Rellenar los objetos de los lúmenes"
      ]
    },
    {
      "cell_type": "code",
      "execution_count": null,
      "metadata": {
        "id": "E9opNjvwj-4R"
      },
      "outputs": [],
      "source": [
        "# 1) Rellena los lúmenes con la función binary_fill_holes de la librería scipy.ndimage.morphology\n",
        "# 2) Convierte la máscara resultante en formato uint8\n",
        "# 3) Visualiza la máscara\n",
        "# 4) Guarda la máscara multiplicándola por 255 con el nombre \"5_mascara_final.png\"\n",
        "filled_lumens = binary_fill_holes(filled_mask)\n",
        "filled_lumens_uint8 = (filled_lumens * 255).astype(np.uint8)\n",
        "plt.imshow(filled_lumens_uint8, cmap='gray')\n",
        "plt.show()\n",
        "cv2.imwrite(\"5_mascara_final.png\", filled_lumens_uint8)"
      ]
    },
    {
      "cell_type": "markdown",
      "metadata": {
        "id": "FJmRbQIkj-4R"
      },
      "source": [
        "#### Detectar y dibujar los contornos de los lúmenes sobre la imagen original"
      ]
    },
    {
      "cell_type": "code",
      "execution_count": null,
      "metadata": {
        "id": "blBqsOqpj-4R"
      },
      "outputs": [],
      "source": [
        "# 1) Encuentra los contornos de los lúmenes\n",
        "# 2) Dibuja los contornos (de color verde) sobre la imagen original\n",
        "# 3) Visualiza la imagen superpuesta\n",
        "# 4) Guarda la imagen multiplicándola por 255 con el nombre \"6_imagen_superpuesta.png\"\n",
        "contours, _ = cv2.findContours(filled_lumens_uint8, cv2.RETR_EXTERNAL, cv2.CHAIN_APPROX_SIMPLE)\n",
        "image_with_contours = cv2.cvtColor((image * 255).astype(np.uint8), cv2.COLOR_RGB2BGR)\n",
        "cv2.drawContours(image_with_contours, contours, -1, (0, 255, 0), 2)\n",
        "plt.imshow(cv2.cvtColor(image_with_contours, cv2.COLOR_BGR2RGB))\n",
        "plt.show()\n",
        "cv2.imwrite(\"6_imagen_superpuesta.png\", image_with_contours)"
      ]
    },
    {
      "cell_type": "markdown",
      "metadata": {
        "id": "yMyhKpWFj-4R"
      },
      "source": [
        "#### Identificar y cropear el lumen más grande"
      ]
    },
    {
      "cell_type": "code",
      "execution_count": null,
      "metadata": {
        "id": "Sv5dIHcdj-4R"
      },
      "outputs": [],
      "source": [
        "# 1) Convierte la máscara de lúmenes en una imagen de etiquetas utilizando la librería skimage.measure\n",
        "# 2) Calcula el área de cada uno de los lúmenes\n",
        "# 3) Obtén una máscara del lumen de mayor área\n",
        "# 4) Haz un crop (recorte) del lumen de mayor área utilizando las coordenadas de la bounding box\n",
        "# 5) Visualiza la máscara recortada del lumen\n",
        "# 6) Guarda la imagen multiplicándola por 255 con el nombre \"7_crop_image.png\"\n",
        "labeled_lumens = measure.label(filled_lumens)\n",
        "regions = measure.regionprops(labeled_lumens)\n",
        "largest_lumen = max(regions, key=lambda region: region.area)\n",
        "largest_lumen_mask = (labeled_lumens == largest_lumen.label)\n",
        "minr, minc, maxr, maxc = largest_lumen.bbox\n",
        "cropped_lumen = largest_lumen_mask[minr:maxr, minc:maxc]\n",
        "plt.imshow(cropped_lumen, cmap='gray')\n",
        "plt.show()\n",
        "cv2.imwrite(\"7_crop_image.png\", (cropped_lumen * 255).astype(np.uint8))"
      ]
    },
    {
      "cell_type": "markdown",
      "metadata": {
        "id": "X_RTcFlfj-4R"
      },
      "source": [
        "#### Extraer 13 características geométricas que permitan caracterizar el lumen recortado"
      ]
    },
    {
      "cell_type": "code",
      "execution_count": null,
      "metadata": {
        "id": "nnGg6Qznj-4R"
      },
      "outputs": [],
      "source": [
        "# Calcula las siguientes características del crop del lumen anterior, redondeando su valor hasta el cuarto decimal.\n",
        "# 1) Área\n",
        "# 2) Área de la bounding box\n",
        "# 3) Área convexa\n",
        "# 4) Exentricidad\n",
        "# 5) Diámetro equivalente\n",
        "# 6) Extensión\n",
        "# 7) Longitud del eje mayor\n",
        "# 8) Longitud del eje menor\n",
        "# 9) Orientación\n",
        "# 10) Perímetro\n",
        "# 11) Solidez\n",
        "# 12) Compacidad\n",
        "# 13) Rectangularidad\n",
        "area = largest_lumen.area\n",
        "bbox_area = largest_lumen.bbox_area\n",
        "convex_area = largest_lumen.convex_area\n",
        "eccentricity = largest_lumen.eccentricity\n",
        "equivalent_diameter = largest_lumen.equivalent_diameter\n",
        "extent = largest_lumen.extent\n",
        "major_axis_length = largest_lumen.major_axis_length\n",
        "minor_axis_length = largest_lumen.minor_axis_length\n",
        "orientation = largest_lumen.orientation\n",
        "perimeter = largest_lumen.perimeter\n",
        "solidity = largest_lumen.solidity\n",
        "compactness = (perimeter**2) / area\n",
        "rectangularity = (4 * area) / (major_axis_length * minor_axis_length)\n",
        "\n",
        "\n",
        "print(f\"Área: {area:.4f}\")\n",
        "print(f\"Área de la bounding box: {bbox_area:.4f}\")\n",
        "print(f\"Área convexa: {convex_area:.4f}\")\n",
        "print(f\"Excentricidad: {eccentricity:.4f}\")\n",
        "print(f\"Diámetro equivalente: {equivalent_diameter:.4f}\")\n",
        "print(f\"Extensión: {extent:.4f}\")\n",
        "print(f\"Longitud del eje mayor: {major_axis_length:.4f}\")\n",
        "print(f\"Longitud del eje menor: {minor_axis_length:.4f}\")\n",
        "print(f\"Orientación: {orientation:.4f}\")\n",
        "print(f\"Perímetro: {perimeter:.4f}\")\n",
        "print(f\"Solidez: {solidity:.4f}\")\n",
        "print(f\"Compacidad: {compactness:.4f}\")\n",
        "print(f\"Rectangularidad: {rectangularity:.4f}\")\n"
      ]
    }
  ],
  "metadata": {
    "kernelspec": {
      "display_name": "Python 3",
      "language": "python",
      "name": "python3"
    },
    "language_info": {
      "codemirror_mode": {
        "name": "ipython",
        "version": 3
      },
      "file_extension": ".py",
      "mimetype": "text/x-python",
      "name": "python",
      "nbconvert_exporter": "python",
      "pygments_lexer": "ipython3",
      "version": "3.8.5"
    },
    "colab": {
      "provenance": [],
      "include_colab_link": true
    }
  },
  "nbformat": 4,
  "nbformat_minor": 0
}